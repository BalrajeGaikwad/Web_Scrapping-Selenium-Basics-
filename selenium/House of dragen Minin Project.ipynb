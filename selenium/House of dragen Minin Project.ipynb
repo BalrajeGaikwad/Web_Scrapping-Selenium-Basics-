{
 "cells": [
  {
   "cell_type": "code",
   "execution_count": 80,
   "id": "e6335ded-2beb-496f-bc3e-4833c3c6f6ff",
   "metadata": {},
   "outputs": [],
   "source": [
    "from selenium import webdriver\n",
    "from selenium.webdriver.chrome.service import Service\n",
    "from selenium.webdriver.common.keys import Keys\n",
    "from selenium.webdriver.common.by import By\n",
    "import time\n",
    "\n",
    "\n",
    "s=Service(r\"C:\\Windows\\chromedriver.exe\")\n",
    "driver=webdriver.Chrome(service=s)\n",
    "\n",
    "driver.get(\"https://www.google.com/\")\n",
    "\n",
    "search=driver.find_element(By.XPATH, \"/html/body/div[1]/div[3]/form/div[1]/div[1]/div[1]/div/div[2]/textarea\")\n",
    "#service.\n",
    "search.send_keys(\"House Of the Dragen \")\n",
    "search.send_keys(Keys.ENTER)\n",
    "\n",
    "#time.sleep(2)\n",
    "element=driver.find_element(By.XPATH, \"/html/body/div[3]/div/div[13]/div[4]/div[1]/div[2]/div/div/div/div/div/div/div/div/div/div/div[1]/div/div/div/div/div[3]/div[5]/div/div/div/div/div/div[1]/div/div/span/a/h3\")\n",
    "#driver.save_screenshot(\"C:/Users/balra/Desktop/selenium/dragen.png\")\n",
    "driver.execute_script(\"arguments[0].click();\", element)\n",
    "\n",
    "\n",
    "#driver.find_elements(By.XPATH, \"/html/body/div[1]/div[2]/div[2]/section[1]/div/div[1]/div/div/div/div[3]/span/img\").screenshot(\"C:/Users/balra/Desktop/selenium/Dragen of house-page.png\")\n",
    "\n",
    "#element.screenshot(\"C:/Users/balra/Desktop/selenium/dragen1.png\")"
   ]
  },
  {
   "cell_type": "code",
   "execution_count": 86,
   "id": "5fca8216-5974-46f7-8971-b8c644dd7bc9",
   "metadata": {},
   "outputs": [
    {
     "ename": "NoSuchElementException",
     "evalue": "Message: no such element: Unable to locate element: {\"method\":\"xpath\",\"selector\":\"/html/body/div[3]/div/div[13]/div[4]/div[1]/div[2]/div/div/div/div/div/div/div/div/div/div/div[1]/div/div/div/div/div[3]/div[5]/div/div/div/div/div/div[1]/div/div/span/a/h3\"}\n  (Session info: chrome=130.0.6723.117); For documentation on this error, please visit: https://www.selenium.dev/documentation/webdriver/troubleshooting/errors#no-such-element-exception\nStacktrace:\n\tGetHandleVerifier [0x00007FF6689A38A5+3004357]\n\t(No symbol) [0x00007FF668639970]\n\t(No symbol) [0x00007FF6684E582A]\n\t(No symbol) [0x00007FF668535B8E]\n\t(No symbol) [0x00007FF668535E7C]\n\t(No symbol) [0x00007FF66857EC27]\n\t(No symbol) [0x00007FF66855BC1F]\n\t(No symbol) [0x00007FF66857BA4C]\n\t(No symbol) [0x00007FF66855B983]\n\t(No symbol) [0x00007FF668527628]\n\t(No symbol) [0x00007FF668528791]\n\tGetHandleVerifier [0x00007FF6689CA00D+3161901]\n\tGetHandleVerifier [0x00007FF668A1E060+3506048]\n\tGetHandleVerifier [0x00007FF668A1400D+3465005]\n\tGetHandleVerifier [0x00007FF668790EEB+830987]\n\t(No symbol) [0x00007FF66864467F]\n\t(No symbol) [0x00007FF6686409D4]\n\t(No symbol) [0x00007FF668640B6D]\n\t(No symbol) [0x00007FF668630149]\n\tBaseThreadInitThunk [0x00007FFB715C257D+29]\n\tRtlUserThreadStart [0x00007FFB729EAF08+40]\n",
     "output_type": "error",
     "traceback": [
      "\u001b[1;31m---------------------------------------------------------------------------\u001b[0m",
      "\u001b[1;31mNoSuchElementException\u001b[0m                    Traceback (most recent call last)",
      "Cell \u001b[1;32mIn[86], line 18\u001b[0m\n\u001b[0;32m     15\u001b[0m search\u001b[38;5;241m.\u001b[39msend_keys(\u001b[38;5;124m\"\u001b[39m\u001b[38;5;124mHouse Of the Dragen \u001b[39m\u001b[38;5;124m\"\u001b[39m)\n\u001b[0;32m     16\u001b[0m search\u001b[38;5;241m.\u001b[39msend_keys(Keys\u001b[38;5;241m.\u001b[39mENTER)\n\u001b[1;32m---> 18\u001b[0m e\u001b[38;5;241m=\u001b[39mdriver\u001b[38;5;241m.\u001b[39mfind_element(By\u001b[38;5;241m.\u001b[39mXPATH,\u001b[38;5;124m\"\u001b[39m\u001b[38;5;124m/html/body/div[3]/div/div[13]/div[4]/div[1]/div[2]/div/div/div/div/div/div/div/div/div/div/div[1]/div/div/div/div/div[3]/div[5]/div/div/div/div/div/div[1]/div/div/span/a/h3\u001b[39m\u001b[38;5;124m\"\u001b[39m) \n\u001b[0;32m     19\u001b[0m driver\u001b[38;5;241m.\u001b[39mexecute_script(\u001b[38;5;124m\"\u001b[39m\u001b[38;5;124marguments[0].click();\u001b[39m\u001b[38;5;124m\"\u001b[39m, e)\n\u001b[0;32m     21\u001b[0m driver\u001b[38;5;241m.\u001b[39msave_screenshot(\u001b[38;5;124m\"\u001b[39m\u001b[38;5;124mC:/Users/balra/Desktop/selenium/dragen of house.png\u001b[39m\u001b[38;5;124m\"\u001b[39m)\n",
      "File \u001b[1;32m~\\AppData\\Roaming\\Python\\Python312\\site-packages\\selenium\\webdriver\\remote\\webdriver.py:766\u001b[0m, in \u001b[0;36mWebDriver.find_element\u001b[1;34m(self, by, value)\u001b[0m\n\u001b[0;32m    763\u001b[0m         \u001b[38;5;28;01mraise\u001b[39;00m NoSuchElementException(\u001b[38;5;124mf\u001b[39m\u001b[38;5;124m\"\u001b[39m\u001b[38;5;124mCannot locate relative element with: \u001b[39m\u001b[38;5;132;01m{\u001b[39;00mby\u001b[38;5;241m.\u001b[39mroot\u001b[38;5;132;01m}\u001b[39;00m\u001b[38;5;124m\"\u001b[39m)\n\u001b[0;32m    764\u001b[0m     \u001b[38;5;28;01mreturn\u001b[39;00m elements[\u001b[38;5;241m0\u001b[39m]\n\u001b[1;32m--> 766\u001b[0m \u001b[38;5;28;01mreturn\u001b[39;00m \u001b[38;5;28mself\u001b[39m\u001b[38;5;241m.\u001b[39mexecute(Command\u001b[38;5;241m.\u001b[39mFIND_ELEMENT, {\u001b[38;5;124m\"\u001b[39m\u001b[38;5;124musing\u001b[39m\u001b[38;5;124m\"\u001b[39m: by, \u001b[38;5;124m\"\u001b[39m\u001b[38;5;124mvalue\u001b[39m\u001b[38;5;124m\"\u001b[39m: value})[\u001b[38;5;124m\"\u001b[39m\u001b[38;5;124mvalue\u001b[39m\u001b[38;5;124m\"\u001b[39m]\n",
      "File \u001b[1;32m~\\AppData\\Roaming\\Python\\Python312\\site-packages\\selenium\\webdriver\\remote\\webdriver.py:380\u001b[0m, in \u001b[0;36mWebDriver.execute\u001b[1;34m(self, driver_command, params)\u001b[0m\n\u001b[0;32m    378\u001b[0m response \u001b[38;5;241m=\u001b[39m \u001b[38;5;28mself\u001b[39m\u001b[38;5;241m.\u001b[39mcommand_executor\u001b[38;5;241m.\u001b[39mexecute(driver_command, params)\n\u001b[0;32m    379\u001b[0m \u001b[38;5;28;01mif\u001b[39;00m response:\n\u001b[1;32m--> 380\u001b[0m     \u001b[38;5;28mself\u001b[39m\u001b[38;5;241m.\u001b[39merror_handler\u001b[38;5;241m.\u001b[39mcheck_response(response)\n\u001b[0;32m    381\u001b[0m     response[\u001b[38;5;124m\"\u001b[39m\u001b[38;5;124mvalue\u001b[39m\u001b[38;5;124m\"\u001b[39m] \u001b[38;5;241m=\u001b[39m \u001b[38;5;28mself\u001b[39m\u001b[38;5;241m.\u001b[39m_unwrap_value(response\u001b[38;5;241m.\u001b[39mget(\u001b[38;5;124m\"\u001b[39m\u001b[38;5;124mvalue\u001b[39m\u001b[38;5;124m\"\u001b[39m, \u001b[38;5;28;01mNone\u001b[39;00m))\n\u001b[0;32m    382\u001b[0m     \u001b[38;5;28;01mreturn\u001b[39;00m response\n",
      "File \u001b[1;32m~\\AppData\\Roaming\\Python\\Python312\\site-packages\\selenium\\webdriver\\remote\\errorhandler.py:229\u001b[0m, in \u001b[0;36mErrorHandler.check_response\u001b[1;34m(self, response)\u001b[0m\n\u001b[0;32m    227\u001b[0m         alert_text \u001b[38;5;241m=\u001b[39m value[\u001b[38;5;124m\"\u001b[39m\u001b[38;5;124malert\u001b[39m\u001b[38;5;124m\"\u001b[39m]\u001b[38;5;241m.\u001b[39mget(\u001b[38;5;124m\"\u001b[39m\u001b[38;5;124mtext\u001b[39m\u001b[38;5;124m\"\u001b[39m)\n\u001b[0;32m    228\u001b[0m     \u001b[38;5;28;01mraise\u001b[39;00m exception_class(message, screen, stacktrace, alert_text)  \u001b[38;5;66;03m# type: ignore[call-arg]  # mypy is not smart enough here\u001b[39;00m\n\u001b[1;32m--> 229\u001b[0m \u001b[38;5;28;01mraise\u001b[39;00m exception_class(message, screen, stacktrace)\n",
      "\u001b[1;31mNoSuchElementException\u001b[0m: Message: no such element: Unable to locate element: {\"method\":\"xpath\",\"selector\":\"/html/body/div[3]/div/div[13]/div[4]/div[1]/div[2]/div/div/div/div/div/div/div/div/div/div/div[1]/div/div/div/div/div[3]/div[5]/div/div/div/div/div/div[1]/div/div/span/a/h3\"}\n  (Session info: chrome=130.0.6723.117); For documentation on this error, please visit: https://www.selenium.dev/documentation/webdriver/troubleshooting/errors#no-such-element-exception\nStacktrace:\n\tGetHandleVerifier [0x00007FF6689A38A5+3004357]\n\t(No symbol) [0x00007FF668639970]\n\t(No symbol) [0x00007FF6684E582A]\n\t(No symbol) [0x00007FF668535B8E]\n\t(No symbol) [0x00007FF668535E7C]\n\t(No symbol) [0x00007FF66857EC27]\n\t(No symbol) [0x00007FF66855BC1F]\n\t(No symbol) [0x00007FF66857BA4C]\n\t(No symbol) [0x00007FF66855B983]\n\t(No symbol) [0x00007FF668527628]\n\t(No symbol) [0x00007FF668528791]\n\tGetHandleVerifier [0x00007FF6689CA00D+3161901]\n\tGetHandleVerifier [0x00007FF668A1E060+3506048]\n\tGetHandleVerifier [0x00007FF668A1400D+3465005]\n\tGetHandleVerifier [0x00007FF668790EEB+830987]\n\t(No symbol) [0x00007FF66864467F]\n\t(No symbol) [0x00007FF6686409D4]\n\t(No symbol) [0x00007FF668640B6D]\n\t(No symbol) [0x00007FF668630149]\n\tBaseThreadInitThunk [0x00007FFB715C257D+29]\n\tRtlUserThreadStart [0x00007FFB729EAF08+40]\n"
     ]
    }
   ],
   "source": [
    "from selenium import webdriver\n",
    "from selenium.webdriver.chrome.service import Service\n",
    "from selenium.webdriver.common.keys import Keys\n",
    "from selenium.webdriver.common.by import By\n",
    "import time\n",
    "\n",
    "\n",
    "s=Service(r\"C:\\Windows\\chromedriver.exe\")\n",
    "driver=webdriver.Chrome(service=s)\n",
    "\n",
    "driver.get(\"https://www.google.com/\")\n",
    "\n",
    "search=driver.find_element(By.XPATH, \"/html/body/div[1]/div[3]/form/div[1]/div[1]/div[1]/div/div[2]/textarea\")\n",
    "#service.\n",
    "search.send_keys(\"House Of the Dragen \")\n",
    "search.send_keys(Keys.ENTER)\n",
    "\n",
    "e=driver.find_element(By.XPATH,\"/html/body/div[3]/div/div[13]/div[4]/div[1]/div[2]/div/div/div/div/div/div/div/div/div/div/div[1]/div/div/div/div/div[3]/div[5]/div/div/div/div/div/div[1]/div/div/span/a/h3\") \n",
    "driver.execute_script(\"arguments[0].click();\", e)\n",
    "\n",
    "driver.save_screenshot(\"C:/Users/balra/Desktop/selenium/dragen of house.png\")"
   ]
  },
  {
   "cell_type": "code",
   "execution_count": null,
   "id": "0eb363e5-ec66-4f59-b3c2-8155fb1c8e2a",
   "metadata": {},
   "outputs": [],
   "source": []
  },
  {
   "cell_type": "code",
   "execution_count": null,
   "id": "0a86dddd-bcda-4fd8-8826-9dbfab961bb1",
   "metadata": {},
   "outputs": [],
   "source": []
  }
 ],
 "metadata": {
  "kernelspec": {
   "display_name": "Python 3 (ipykernel)",
   "language": "python",
   "name": "python3"
  },
  "language_info": {
   "codemirror_mode": {
    "name": "ipython",
    "version": 3
   },
   "file_extension": ".py",
   "mimetype": "text/x-python",
   "name": "python",
   "nbconvert_exporter": "python",
   "pygments_lexer": "ipython3",
   "version": "3.12.4"
  }
 },
 "nbformat": 4,
 "nbformat_minor": 5
}
