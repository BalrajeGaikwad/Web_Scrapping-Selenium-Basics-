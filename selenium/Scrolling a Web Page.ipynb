{
 "cells": [
  {
   "cell_type": "code",
   "execution_count": 13,
   "id": "011820e8-b221-4c3e-99fa-6db446583d2f",
   "metadata": {},
   "outputs": [
    {
     "name": "stdout",
     "output_type": "stream",
     "text": [
      "5998\n"
     ]
    },
    {
     "ename": "JavascriptException",
     "evalue": "Message: javascript error: Unexpected token 'return'\n  (Session info: chrome=130.0.6723.117)\nStacktrace:\n\tGetHandleVerifier [0x00007FF6689A38A5+3004357]\n\t(No symbol) [0x00007FF668639970]\n\t(No symbol) [0x00007FF6684E582A]\n\t(No symbol) [0x00007FF6684EC2E2]\n\t(No symbol) [0x00007FF6684EE94F]\n\t(No symbol) [0x00007FF66857CD20]\n\t(No symbol) [0x00007FF66855BBDA]\n\t(No symbol) [0x00007FF66857BA4C]\n\t(No symbol) [0x00007FF66855B983]\n\t(No symbol) [0x00007FF668527628]\n\t(No symbol) [0x00007FF668528791]\n\tGetHandleVerifier [0x00007FF6689CA00D+3161901]\n\tGetHandleVerifier [0x00007FF668A1E060+3506048]\n\tGetHandleVerifier [0x00007FF668A1400D+3465005]\n\tGetHandleVerifier [0x00007FF668790EEB+830987]\n\t(No symbol) [0x00007FF66864467F]\n\t(No symbol) [0x00007FF6686409D4]\n\t(No symbol) [0x00007FF668640B6D]\n\t(No symbol) [0x00007FF668630149]\n\tBaseThreadInitThunk [0x00007FFB715C257D+29]\n\tRtlUserThreadStart [0x00007FFB729EAF08+40]\n",
     "output_type": "error",
     "traceback": [
      "\u001b[1;31m---------------------------------------------------------------------------\u001b[0m",
      "\u001b[1;31mJavascriptException\u001b[0m                       Traceback (most recent call last)",
      "Cell \u001b[1;32mIn[13], line 15\u001b[0m\n\u001b[0;32m     13\u001b[0m \u001b[38;5;28mprint\u001b[39m(height)\n\u001b[0;32m     14\u001b[0m \u001b[38;5;28;01mwhile\u001b[39;00m \u001b[38;5;28;01mTrue\u001b[39;00m:\n\u001b[1;32m---> 15\u001b[0m     driver\u001b[38;5;241m.\u001b[39mexecute_script(\u001b[38;5;124m\"\u001b[39m\u001b[38;5;124mwindow.scrollTo(0,return document.body.scrollHeight)\u001b[39m\u001b[38;5;124m\"\u001b[39m)\n",
      "File \u001b[1;32m~\\AppData\\Roaming\\Python\\Python312\\site-packages\\selenium\\webdriver\\remote\\webdriver.py:440\u001b[0m, in \u001b[0;36mWebDriver.execute_script\u001b[1;34m(self, script, *args)\u001b[0m\n\u001b[0;32m    437\u001b[0m converted_args \u001b[38;5;241m=\u001b[39m \u001b[38;5;28mlist\u001b[39m(args)\n\u001b[0;32m    438\u001b[0m command \u001b[38;5;241m=\u001b[39m Command\u001b[38;5;241m.\u001b[39mW3C_EXECUTE_SCRIPT\n\u001b[1;32m--> 440\u001b[0m \u001b[38;5;28;01mreturn\u001b[39;00m \u001b[38;5;28mself\u001b[39m\u001b[38;5;241m.\u001b[39mexecute(command, {\u001b[38;5;124m\"\u001b[39m\u001b[38;5;124mscript\u001b[39m\u001b[38;5;124m\"\u001b[39m: script, \u001b[38;5;124m\"\u001b[39m\u001b[38;5;124margs\u001b[39m\u001b[38;5;124m\"\u001b[39m: converted_args})[\u001b[38;5;124m\"\u001b[39m\u001b[38;5;124mvalue\u001b[39m\u001b[38;5;124m\"\u001b[39m]\n",
      "File \u001b[1;32m~\\AppData\\Roaming\\Python\\Python312\\site-packages\\selenium\\webdriver\\remote\\webdriver.py:380\u001b[0m, in \u001b[0;36mWebDriver.execute\u001b[1;34m(self, driver_command, params)\u001b[0m\n\u001b[0;32m    378\u001b[0m response \u001b[38;5;241m=\u001b[39m \u001b[38;5;28mself\u001b[39m\u001b[38;5;241m.\u001b[39mcommand_executor\u001b[38;5;241m.\u001b[39mexecute(driver_command, params)\n\u001b[0;32m    379\u001b[0m \u001b[38;5;28;01mif\u001b[39;00m response:\n\u001b[1;32m--> 380\u001b[0m     \u001b[38;5;28mself\u001b[39m\u001b[38;5;241m.\u001b[39merror_handler\u001b[38;5;241m.\u001b[39mcheck_response(response)\n\u001b[0;32m    381\u001b[0m     response[\u001b[38;5;124m\"\u001b[39m\u001b[38;5;124mvalue\u001b[39m\u001b[38;5;124m\"\u001b[39m] \u001b[38;5;241m=\u001b[39m \u001b[38;5;28mself\u001b[39m\u001b[38;5;241m.\u001b[39m_unwrap_value(response\u001b[38;5;241m.\u001b[39mget(\u001b[38;5;124m\"\u001b[39m\u001b[38;5;124mvalue\u001b[39m\u001b[38;5;124m\"\u001b[39m, \u001b[38;5;28;01mNone\u001b[39;00m))\n\u001b[0;32m    382\u001b[0m     \u001b[38;5;28;01mreturn\u001b[39;00m response\n",
      "File \u001b[1;32m~\\AppData\\Roaming\\Python\\Python312\\site-packages\\selenium\\webdriver\\remote\\errorhandler.py:229\u001b[0m, in \u001b[0;36mErrorHandler.check_response\u001b[1;34m(self, response)\u001b[0m\n\u001b[0;32m    227\u001b[0m         alert_text \u001b[38;5;241m=\u001b[39m value[\u001b[38;5;124m\"\u001b[39m\u001b[38;5;124malert\u001b[39m\u001b[38;5;124m\"\u001b[39m]\u001b[38;5;241m.\u001b[39mget(\u001b[38;5;124m\"\u001b[39m\u001b[38;5;124mtext\u001b[39m\u001b[38;5;124m\"\u001b[39m)\n\u001b[0;32m    228\u001b[0m     \u001b[38;5;28;01mraise\u001b[39;00m exception_class(message, screen, stacktrace, alert_text)  \u001b[38;5;66;03m# type: ignore[call-arg]  # mypy is not smart enough here\u001b[39;00m\n\u001b[1;32m--> 229\u001b[0m \u001b[38;5;28;01mraise\u001b[39;00m exception_class(message, screen, stacktrace)\n",
      "\u001b[1;31mJavascriptException\u001b[0m: Message: javascript error: Unexpected token 'return'\n  (Session info: chrome=130.0.6723.117)\nStacktrace:\n\tGetHandleVerifier [0x00007FF6689A38A5+3004357]\n\t(No symbol) [0x00007FF668639970]\n\t(No symbol) [0x00007FF6684E582A]\n\t(No symbol) [0x00007FF6684EC2E2]\n\t(No symbol) [0x00007FF6684EE94F]\n\t(No symbol) [0x00007FF66857CD20]\n\t(No symbol) [0x00007FF66855BBDA]\n\t(No symbol) [0x00007FF66857BA4C]\n\t(No symbol) [0x00007FF66855B983]\n\t(No symbol) [0x00007FF668527628]\n\t(No symbol) [0x00007FF668528791]\n\tGetHandleVerifier [0x00007FF6689CA00D+3161901]\n\tGetHandleVerifier [0x00007FF668A1E060+3506048]\n\tGetHandleVerifier [0x00007FF668A1400D+3465005]\n\tGetHandleVerifier [0x00007FF668790EEB+830987]\n\t(No symbol) [0x00007FF66864467F]\n\t(No symbol) [0x00007FF6686409D4]\n\t(No symbol) [0x00007FF668640B6D]\n\t(No symbol) [0x00007FF668630149]\n\tBaseThreadInitThunk [0x00007FFB715C257D+29]\n\tRtlUserThreadStart [0x00007FFB729EAF08+40]\n"
     ]
    }
   ],
   "source": [
    "from selenium import webdriver\n",
    "from selenium.webdriver.chrome.service import Service\n",
    "from selenium.webdriver.common.keys import Keys\n",
    "from selenium.webdriver.common.by import By\n",
    "import time\n",
    "\n",
    "\n",
    "s=Service(r\"C:\\Windows\\chromedriver.exe\")\n",
    "driver=webdriver.Chrome(service=s)\n",
    "\n",
    "driver.get(\"https://www.google.com/search?sca_esv=9dcfd037fee0fef7&rlz=1C1CHBF_enIN1128IN1129&sxsrf=ADLYWIIuEWyF0BlJU6at320RIBmGhpigpQ:1731311248104&q=pandas&udm=2&fbs=AEQNm0DYVld7NGDZ8Pi819Yg8r6em07j6rW9d2jUMtr8MB7htoxbI0iAKNRPykigVf3e9aputkbr8jzmN5LYbANOqrq5HYnx4MjtyMxZ94LvgeHWmGBcuWUoydKfNaoB5JMdZlMtXmg2De2y5O7nn-eTbNdYHsRiT1RQ-pB6qp3ejXJ5VpdCk5NA1Jug5hVR16L7F-A1C1p-4xpfp7qj2HsGNaipPZQOiw&sa=X&ved=2ahUKEwihhMH_5NOJAxVom68BHRbPM3YQtKgLegQIDRAB&biw=767&bih=695&dpr=1.25\")\n",
    "height=driver.execute_script(\"return document.body.scrollHeight\")\n",
    "print(height)\n",
    "while True:\n",
    "    driver.execute_script(\"window.scrollTo(0,return document.body.scrollHeight)\")\n",
    "\n",
    "\n",
    "\n",
    "\n",
    "\n",
    "\n",
    "\n",
    "\n",
    "\n"
   ]
  },
  {
   "cell_type": "code",
   "execution_count": 15,
   "id": "0d04eb8e-9114-4c47-9d7a-7976f34b7495",
   "metadata": {},
   "outputs": [
    {
     "name": "stdout",
     "output_type": "stream",
     "text": [
      "5998\n"
     ]
    }
   ],
   "source": [
    "from selenium import webdriver\n",
    "from selenium.webdriver.chrome.service import Service\n",
    "from selenium.webdriver.common.keys import Keys\n",
    "from selenium.webdriver.common.by import By\n",
    "import time\n",
    "\n",
    "s = Service(r\"C:\\Windows\\chromedriver.exe\")\n",
    "driver = webdriver.Chrome(service=s)\n",
    "\n",
    "driver.get(\"https://www.google.com/search?sca_esv=9dcfd037fee0fef7&rlz=1C1CHBF_enIN1128IN1129&sxsrf=ADLYWIIuEWyF0BlJU6at320RIBmGhpigpQ:1731311248104&q=pandas&udm=2&fbs=AEQNm0DYVld7NGDZ8Pi819Yg8r6em07j6rW9d2jUMtr8MB7htoxbI0iAKNRPykigVf3e9aputkbr8jzmN5LYbANOqrq5HYnx4MjtyMxZ94LvgeHWmGBcuWUoydKfNaoB5JMdZlMtXmg2De2y5O7nn-eTbNdYHsRiT1RQ-pB6qp3ejXJ5VpdCk5NA1Jug5hVR16L7F-A1C1p-4xpfp7qj2HsGNaipPZQOiw&sa=X&ved=2ahUKEwihhMH_5NOJAxVom68BHRbPM3YQtKgLegQIDRAB&biw=767&bih=695&dpr=1.25\")\n",
    "\n",
    "# Get the total page height\n",
    "height = driver.execute_script(\"return document.body.scrollHeight\")\n",
    "print(height)\n",
    "\n",
    "# Scroll continuously to the bottom\n",
    "while True:\n",
    "    driver.execute_script(\"window.scrollTo(0, document.body.scrollHeight);\")\n",
    "    time.sleep(2)  # Pause to allow content to load if needed\n",
    "\n",
    "    # Update the height to detect if we have reached the bottom\n",
    "    new_height = driver.execute_script(\"return document.body.scrollHeight\")\n",
    "    if new_height == height:\n",
    "        break  # Exit the loop if no new content is loaded\n",
    "    height = new_height\n"
   ]
  },
  {
   "cell_type": "code",
   "execution_count": null,
   "id": "299f72d7-c1fc-4c40-acfa-19c707cc6c8d",
   "metadata": {},
   "outputs": [],
   "source": []
  }
 ],
 "metadata": {
  "kernelspec": {
   "display_name": "Python 3 (ipykernel)",
   "language": "python",
   "name": "python3"
  },
  "language_info": {
   "codemirror_mode": {
    "name": "ipython",
    "version": 3
   },
   "file_extension": ".py",
   "mimetype": "text/x-python",
   "name": "python",
   "nbconvert_exporter": "python",
   "pygments_lexer": "ipython3",
   "version": "3.12.4"
  }
 },
 "nbformat": 4,
 "nbformat_minor": 5
}
