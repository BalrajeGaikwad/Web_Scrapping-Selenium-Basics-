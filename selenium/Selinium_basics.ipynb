{
 "cells": [
  {
   "cell_type": "code",
   "execution_count": 67,
   "id": "d8daafea-8dd9-45eb-8540-000d45ee4311",
   "metadata": {},
   "outputs": [],
   "source": [
    "from selenium import webdriver\n",
    "from selenium.webdriver.chrome.service import Service\n",
    "from selenium.webdriver.common.by import By\n",
    "import time\n",
    "\n",
    "# Specify the path to chromedriver\n",
    "service = Service(r\"C:/Windows/chromedriver.exe\")\n",
    "driver = webdriver.Chrome(service=service)\n",
    "\n",
    "# Open the website\n",
    "driver.get(\"https://www.nareshit.in/course-schedule/\")\n",
    "time.sleep(5)  # Wait for the page to load\n",
    "\n",
    "# Locate the first element and click it using JavaScript\n",
    "element1 = driver.find_element(By.XPATH, \"/html/body/div[1]/nav/div/ul/li[5]/a\")\n",
    "driver.execute_script(\"arguments[0].click();\", element1)\n",
    "\n",
    "time.sleep(5)  # Wait for any potential transitions or page updates\n",
    "\n",
    "#Locate the second element and click it using JavaScript\n",
    "element2 = driver.find_element(By.XPATH, \"/html/body/div[1]/div[1]/div/div[2]/main/article/div/center/a[1]\")\n",
    "driver.execute_script(\"arguments[0].click();\", element2)\n",
    "\n",
    "time.sleep(5)  # Wait for the action to complete\n",
    "\n",
    "\n",
    "element3 = driver.find_element(By.XPATH, \"/html/body/div[1]/div[1]/div/div[2]/main/article/div/center/a[3]\")\n",
    "driver.execute_script(\"arguments[0].click();\", element3)\n",
    "\n",
    "time.sleep(5)\n",
    "\n",
    "\n",
    "# Close the browser\n",
    "#driver.quit()\n"
   ]
  },
  {
   "cell_type": "code",
   "execution_count": null,
   "id": "7a1e4ea0-30de-4d84-87c2-f43134271ad4",
   "metadata": {},
   "outputs": [],
   "source": []
  }
 ],
 "metadata": {
  "kernelspec": {
   "display_name": "Python 3 (ipykernel)",
   "language": "python",
   "name": "python3"
  },
  "language_info": {
   "codemirror_mode": {
    "name": "ipython",
    "version": 3
   },
   "file_extension": ".py",
   "mimetype": "text/x-python",
   "name": "python",
   "nbconvert_exporter": "python",
   "pygments_lexer": "ipython3",
   "version": "3.12.4"
  }
 },
 "nbformat": 4,
 "nbformat_minor": 5
}
