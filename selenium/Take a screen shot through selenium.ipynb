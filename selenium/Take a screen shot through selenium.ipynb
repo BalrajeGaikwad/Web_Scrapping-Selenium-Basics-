{
 "cells": [
  {
   "cell_type": "code",
   "execution_count": 43,
   "id": "4ed27375-f52b-4072-8271-67dc24e5dfb9",
   "metadata": {},
   "outputs": [
    {
     "ename": "AttributeError",
     "evalue": "'NoneType' object has no attribute 'screenshot'",
     "output_type": "error",
     "traceback": [
      "\u001b[1;31m---------------------------------------------------------------------------\u001b[0m",
      "\u001b[1;31mAttributeError\u001b[0m                            Traceback (most recent call last)",
      "Cell \u001b[1;32mIn[43], line 19\u001b[0m\n\u001b[0;32m     12\u001b[0m \u001b[38;5;66;03m#driver.save_screenshot(\"C:/Users/balra/Desktop/selenium/full-page.png\")\u001b[39;00m\n\u001b[0;32m     13\u001b[0m \n\u001b[0;32m     14\u001b[0m \u001b[38;5;66;03m# Capture a screenshot of the specific element\u001b[39;00m\n\u001b[0;32m     15\u001b[0m element \u001b[38;5;241m=\u001b[39m driver\u001b[38;5;241m.\u001b[39mfind_element(By\u001b[38;5;241m.\u001b[39mXPATH, \u001b[38;5;124m\"\u001b[39m\u001b[38;5;124m/html/body/div[1]/div[2]/div[2]/section[1]/div/div[1]/div/div/div/div[3]/span/img\u001b[39m\u001b[38;5;124m\"\u001b[39m)\u001b[38;5;241m.\u001b[39mclick()\n\u001b[1;32m---> 19\u001b[0m element\u001b[38;5;241m.\u001b[39mscreenshot(\u001b[38;5;124m\"\u001b[39m\u001b[38;5;124mC:/Users/balra/Desktop/selenium/full-page1.png\u001b[39m\u001b[38;5;124m\"\u001b[39m)\n",
      "\u001b[1;31mAttributeError\u001b[0m: 'NoneType' object has no attribute 'screenshot'"
     ]
    }
   ],
   "source": [
    "from selenium import webdriver\n",
    "from selenium.webdriver.chrome.service import Service\n",
    "from selenium.webdriver.common.keys import Keys\n",
    "from selenium.webdriver.common.by import By\n",
    "import time\n",
    "\n",
    "s=Service(r\"C:\\Windows\\chromedriver.exe\")\n",
    "driver=webdriver.Chrome(service=s)\n",
    "\n",
    "driver.get(\"https://www.tutorialsfreak.com/\")\n",
    "\n",
    "#driver.save_screenshot(\"C:/Users/balra/Desktop/selenium/full-page.png\")\n",
    "\n",
    "driver.find_elements(By.XPATH, \"/html/body/div[1]/div[2]/div[2]/section[1]/div/div[1]/div/div/div/div[3]/span/img\").screenshot(\"C:/Users/balra/Desktop/selenium/full-page.png\")"
   ]
  },
  {
   "cell_type": "code",
   "execution_count": 15,
   "id": "8d752986-cc8c-4c85-a473-c49eda3b953d",
   "metadata": {},
   "outputs": [],
   "source": []
  },
  {
   "cell_type": "code",
   "execution_count": 16,
   "id": "29a68e3f-bc37-4b08-a0d0-b735be846329",
   "metadata": {},
   "outputs": [],
   "source": []
  },
  {
   "cell_type": "code",
   "execution_count": null,
   "id": "99f762e2-1c7f-4c6c-bd44-3141ba75a404",
   "metadata": {},
   "outputs": [],
   "source": []
  }
 ],
 "metadata": {
  "kernelspec": {
   "display_name": "Python 3 (ipykernel)",
   "language": "python",
   "name": "python3"
  },
  "language_info": {
   "codemirror_mode": {
    "name": "ipython",
    "version": 3
   },
   "file_extension": ".py",
   "mimetype": "text/x-python",
   "name": "python",
   "nbconvert_exporter": "python",
   "pygments_lexer": "ipython3",
   "version": "3.12.4"
  }
 },
 "nbformat": 4,
 "nbformat_minor": 5
}
