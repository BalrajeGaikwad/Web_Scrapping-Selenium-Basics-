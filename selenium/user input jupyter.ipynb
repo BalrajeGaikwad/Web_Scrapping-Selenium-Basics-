{
 "cells": [
  {
   "cell_type": "raw",
   "id": "129c1e9f-957c-4a7c-9753-162a9ce867a2",
   "metadata": {},
   "source": [
    "from selenium import webdriver\n",
    "from selenium.webdriver.chrome.service import Service\n",
    "from selenium.webdriver.common.by import By\n",
    "import time\n",
    "from selenium.webdriver.common.keys import Keys\n",
    "\n",
    "# Specify the path to chromedriver\n",
    "service = Service(r\"C:/Windows/chromedriver.exe\")\n",
    "driver = webdriver.Chrome(service=service)\n",
    "\n",
    "# Open the website\n",
    "driver.get(\"https://www.google.com/\")\n",
    "time.sleep(5)  # Wait for the page to load\n",
    "\n",
    "search=driver.find_element(By.XPATH, \"/html/body/div[1]/div[3]/form/div[1]/div[1]/div[1]/div/div[2]/textarea\")\n",
    "search.send_keys(\"PW Skills\")\n",
    "search.send_keys(Keys.ENTER)"
   ]
  },
  {
   "cell_type": "markdown",
   "id": "42365cb5-3e50-4298-b48e-eb796a7f6204",
   "metadata": {},
   "source": [
    "from selenium import webdriver\n",
    "from selenium.webdriver.chrome.service import Service\n",
    "from selenium.webdriver.common.by import By\n",
    "import time\n",
    "from selenium.webdriver.common.keys import Keys\n",
    "\n",
    "# Specify the path to chromedriver\n",
    "service = Service(r\"C:/Windows/chromedriver.exe\")\n",
    "driver = webdriver.Chrome(service=service)\n",
    "\n",
    "# Open the website\n",
    "driver.get(\"https://www.linkedin.com/login\")\n",
    "time.sleep(5)  # Wait for the page to load\n",
    "\n",
    "search=driver.find_element(By.XPATH, \"/html/body/div/main/div[2]/div[1]/form/div[1]/input\")\n",
    "search.send_keys(\"balrajegaikwad55@gmail.com\")\n",
    "#search.send_keys(Keys.ENTER)\n",
    "\n",
    "Password=driver.find_element(By.XPATH, \"/html/body/div[1]/main/div[2]/div[1]/form/div[2]/input\")\n",
    "Password.send_keys(\"Balraje@55\")\n",
    "\n",
    "\n",
    "#element1 = driver.find_element(By.XPATH, \"/html/body/div/main/div[2]/div[1]/form/div[3]/input\")\n",
    "#driver.execute_script(\"arguments[0].click();\", element1)\n",
    "\n",
    "\n",
    "element1 = driver.find_element(By.XPATH, \"/html/body/div/main/div[2]/div[1]/form/div[4]/button\")\n",
    "driver.execute_script(\"arguments[0].click();\", element1)"
   ]
  },
  {
   "cell_type": "code",
   "execution_count": 18,
   "id": "aa398959-86e1-4e45-82e3-6f43c3b60b83",
   "metadata": {},
   "outputs": [],
   "source": [
    "\n",
    "#element1 = driver.find_element(By.XPATH, \"/html/body/div/main/div[2]/div[1]/form/div[4]/button\")\n",
    "#driver.execute_script(\"arguments[0].click();\", element1)"
   ]
  },
  {
   "cell_type": "markdown",
   "id": "fa3778a9-9e69-448a-ae73-6c51505008d9",
   "metadata": {},
   "source": []
  },
  {
   "cell_type": "code",
   "execution_count": null,
   "id": "ee0e0c58-4546-494c-a961-f26b856fc476",
   "metadata": {},
   "outputs": [],
   "source": []
  },
  {
   "cell_type": "code",
   "execution_count": 22,
   "id": "02983d91-32c9-404a-9ad7-e02b466e8253",
   "metadata": {},
   "outputs": [
    {
     "ename": "NoSuchElementException",
     "evalue": "Message: no such element: Unable to locate element: {\"method\":\"xpath\",\"selector\":\"/html/body/div[1]/div[1]/main/nav/div/div/div/div[2]/button\"}\n  (Session info: chrome=130.0.6723.117); For documentation on this error, please visit: https://www.selenium.dev/documentation/webdriver/troubleshooting/errors#no-such-element-exception\nStacktrace:\n\tGetHandleVerifier [0x00007FF74A1238A5+3004357]\n\t(No symbol) [0x00007FF749DB9970]\n\t(No symbol) [0x00007FF749C6582A]\n\t(No symbol) [0x00007FF749CB5B8E]\n\t(No symbol) [0x00007FF749CB5E7C]\n\t(No symbol) [0x00007FF749CFEC27]\n\t(No symbol) [0x00007FF749CDBC1F]\n\t(No symbol) [0x00007FF749CFBA4C]\n\t(No symbol) [0x00007FF749CDB983]\n\t(No symbol) [0x00007FF749CA7628]\n\t(No symbol) [0x00007FF749CA8791]\n\tGetHandleVerifier [0x00007FF74A14A00D+3161901]\n\tGetHandleVerifier [0x00007FF74A19E060+3506048]\n\tGetHandleVerifier [0x00007FF74A19400D+3465005]\n\tGetHandleVerifier [0x00007FF749F10EEB+830987]\n\t(No symbol) [0x00007FF749DC467F]\n\t(No symbol) [0x00007FF749DC09D4]\n\t(No symbol) [0x00007FF749DC0B6D]\n\t(No symbol) [0x00007FF749DB0149]\n\tBaseThreadInitThunk [0x00007FFC1FAE257D+29]\n\tRtlUserThreadStart [0x00007FFC201AAF08+40]\n",
     "output_type": "error",
     "traceback": [
      "\u001b[1;31m---------------------------------------------------------------------------\u001b[0m",
      "\u001b[1;31mNoSuchElementException\u001b[0m                    Traceback (most recent call last)",
      "Cell \u001b[1;32mIn[22], line 18\u001b[0m\n\u001b[0;32m     15\u001b[0m time\u001b[38;5;241m.\u001b[39msleep(\u001b[38;5;241m5\u001b[39m)  \u001b[38;5;66;03m# Sleep for 5 seconds to ensure the page is fully loaded\u001b[39;00m\n\u001b[0;32m     17\u001b[0m \u001b[38;5;66;03m# Locate the button and click it\u001b[39;00m\n\u001b[1;32m---> 18\u001b[0m element1 \u001b[38;5;241m=\u001b[39m driver\u001b[38;5;241m.\u001b[39mfind_element(By\u001b[38;5;241m.\u001b[39mXPATH, \u001b[38;5;124m\"\u001b[39m\u001b[38;5;124m/html/body/div[1]/div[1]/main/nav/div/div/div/div[2]/button\u001b[39m\u001b[38;5;124m\"\u001b[39m)\n\u001b[0;32m     19\u001b[0m driver\u001b[38;5;241m.\u001b[39mexecute_script(\u001b[38;5;124m\"\u001b[39m\u001b[38;5;124marguments[0].click();\u001b[39m\u001b[38;5;124m\"\u001b[39m, element1)\n\u001b[0;32m     21\u001b[0m \u001b[38;5;66;03m# Additional actions or waiting if needed\u001b[39;00m\n",
      "File \u001b[1;32m~\\AppData\\Roaming\\Python\\Python312\\site-packages\\selenium\\webdriver\\remote\\webdriver.py:766\u001b[0m, in \u001b[0;36mWebDriver.find_element\u001b[1;34m(self, by, value)\u001b[0m\n\u001b[0;32m    763\u001b[0m         \u001b[38;5;28;01mraise\u001b[39;00m NoSuchElementException(\u001b[38;5;124mf\u001b[39m\u001b[38;5;124m\"\u001b[39m\u001b[38;5;124mCannot locate relative element with: \u001b[39m\u001b[38;5;132;01m{\u001b[39;00mby\u001b[38;5;241m.\u001b[39mroot\u001b[38;5;132;01m}\u001b[39;00m\u001b[38;5;124m\"\u001b[39m)\n\u001b[0;32m    764\u001b[0m     \u001b[38;5;28;01mreturn\u001b[39;00m elements[\u001b[38;5;241m0\u001b[39m]\n\u001b[1;32m--> 766\u001b[0m \u001b[38;5;28;01mreturn\u001b[39;00m \u001b[38;5;28mself\u001b[39m\u001b[38;5;241m.\u001b[39mexecute(Command\u001b[38;5;241m.\u001b[39mFIND_ELEMENT, {\u001b[38;5;124m\"\u001b[39m\u001b[38;5;124musing\u001b[39m\u001b[38;5;124m\"\u001b[39m: by, \u001b[38;5;124m\"\u001b[39m\u001b[38;5;124mvalue\u001b[39m\u001b[38;5;124m\"\u001b[39m: value})[\u001b[38;5;124m\"\u001b[39m\u001b[38;5;124mvalue\u001b[39m\u001b[38;5;124m\"\u001b[39m]\n",
      "File \u001b[1;32m~\\AppData\\Roaming\\Python\\Python312\\site-packages\\selenium\\webdriver\\remote\\webdriver.py:380\u001b[0m, in \u001b[0;36mWebDriver.execute\u001b[1;34m(self, driver_command, params)\u001b[0m\n\u001b[0;32m    378\u001b[0m response \u001b[38;5;241m=\u001b[39m \u001b[38;5;28mself\u001b[39m\u001b[38;5;241m.\u001b[39mcommand_executor\u001b[38;5;241m.\u001b[39mexecute(driver_command, params)\n\u001b[0;32m    379\u001b[0m \u001b[38;5;28;01mif\u001b[39;00m response:\n\u001b[1;32m--> 380\u001b[0m     \u001b[38;5;28mself\u001b[39m\u001b[38;5;241m.\u001b[39merror_handler\u001b[38;5;241m.\u001b[39mcheck_response(response)\n\u001b[0;32m    381\u001b[0m     response[\u001b[38;5;124m\"\u001b[39m\u001b[38;5;124mvalue\u001b[39m\u001b[38;5;124m\"\u001b[39m] \u001b[38;5;241m=\u001b[39m \u001b[38;5;28mself\u001b[39m\u001b[38;5;241m.\u001b[39m_unwrap_value(response\u001b[38;5;241m.\u001b[39mget(\u001b[38;5;124m\"\u001b[39m\u001b[38;5;124mvalue\u001b[39m\u001b[38;5;124m\"\u001b[39m, \u001b[38;5;28;01mNone\u001b[39;00m))\n\u001b[0;32m    382\u001b[0m     \u001b[38;5;28;01mreturn\u001b[39;00m response\n",
      "File \u001b[1;32m~\\AppData\\Roaming\\Python\\Python312\\site-packages\\selenium\\webdriver\\remote\\errorhandler.py:229\u001b[0m, in \u001b[0;36mErrorHandler.check_response\u001b[1;34m(self, response)\u001b[0m\n\u001b[0;32m    227\u001b[0m         alert_text \u001b[38;5;241m=\u001b[39m value[\u001b[38;5;124m\"\u001b[39m\u001b[38;5;124malert\u001b[39m\u001b[38;5;124m\"\u001b[39m]\u001b[38;5;241m.\u001b[39mget(\u001b[38;5;124m\"\u001b[39m\u001b[38;5;124mtext\u001b[39m\u001b[38;5;124m\"\u001b[39m)\n\u001b[0;32m    228\u001b[0m     \u001b[38;5;28;01mraise\u001b[39;00m exception_class(message, screen, stacktrace, alert_text)  \u001b[38;5;66;03m# type: ignore[call-arg]  # mypy is not smart enough here\u001b[39;00m\n\u001b[1;32m--> 229\u001b[0m \u001b[38;5;28;01mraise\u001b[39;00m exception_class(message, screen, stacktrace)\n",
      "\u001b[1;31mNoSuchElementException\u001b[0m: Message: no such element: Unable to locate element: {\"method\":\"xpath\",\"selector\":\"/html/body/div[1]/div[1]/main/nav/div/div/div/div[2]/button\"}\n  (Session info: chrome=130.0.6723.117); For documentation on this error, please visit: https://www.selenium.dev/documentation/webdriver/troubleshooting/errors#no-such-element-exception\nStacktrace:\n\tGetHandleVerifier [0x00007FF74A1238A5+3004357]\n\t(No symbol) [0x00007FF749DB9970]\n\t(No symbol) [0x00007FF749C6582A]\n\t(No symbol) [0x00007FF749CB5B8E]\n\t(No symbol) [0x00007FF749CB5E7C]\n\t(No symbol) [0x00007FF749CFEC27]\n\t(No symbol) [0x00007FF749CDBC1F]\n\t(No symbol) [0x00007FF749CFBA4C]\n\t(No symbol) [0x00007FF749CDB983]\n\t(No symbol) [0x00007FF749CA7628]\n\t(No symbol) [0x00007FF749CA8791]\n\tGetHandleVerifier [0x00007FF74A14A00D+3161901]\n\tGetHandleVerifier [0x00007FF74A19E060+3506048]\n\tGetHandleVerifier [0x00007FF74A19400D+3465005]\n\tGetHandleVerifier [0x00007FF749F10EEB+830987]\n\t(No symbol) [0x00007FF749DC467F]\n\t(No symbol) [0x00007FF749DC09D4]\n\t(No symbol) [0x00007FF749DC0B6D]\n\t(No symbol) [0x00007FF749DB0149]\n\tBaseThreadInitThunk [0x00007FFC1FAE257D+29]\n\tRtlUserThreadStart [0x00007FFC201AAF08+40]\n"
     ]
    }
   ],
   "source": [
    "from selenium import webdriver\n",
    "from selenium.webdriver.chrome.service import Service\n",
    "from selenium.webdriver.common.by import By\n",
    "from selenium.webdriver.common.keys import Keys\n",
    "import time\n",
    "\n",
    "# Specify the path to chromedriver\n",
    "service = Service(r\"C:/Windows/chromedriver.exe\")\n",
    "driver = webdriver.Chrome(service=service)\n",
    "\n",
    "# Open the website\n",
    "driver.get(\"https://pwskills.com/\")\n",
    "\n",
    "# Wait for the page to load completely\n",
    "time.sleep(5)  # Sleep for 5 seconds to ensure the page is fully loaded\n",
    "\n",
    "# Locate the button and click it\n",
    "element1 = driver.find_element(By.XPATH, \"/html/body/div[1]/div[1]/main/nav/div/div/div/div[2]/button\")\n",
    "driver.execute_script(\"arguments[0].click();\", element1)\n",
    "\n",
    "# Additional actions or waiting if needed\n",
    "time.sleep(5)  # Wait for any page changes after clicking\n",
    "\n",
    "# Close the driver after the task is done\n",
    "driver.quit()\n"
   ]
  },
  {
   "cell_type": "code",
   "execution_count": null,
   "id": "327cf840-3f1e-4f0a-9d4d-74a3de58782b",
   "metadata": {},
   "outputs": [],
   "source": []
  }
 ],
 "metadata": {
  "kernelspec": {
   "display_name": "Python 3 (ipykernel)",
   "language": "python",
   "name": "python3"
  },
  "language_info": {
   "codemirror_mode": {
    "name": "ipython",
    "version": 3
   },
   "file_extension": ".py",
   "mimetype": "text/x-python",
   "name": "python",
   "nbconvert_exporter": "python",
   "pygments_lexer": "ipython3",
   "version": "3.12.4"
  }
 },
 "nbformat": 4,
 "nbformat_minor": 5
}
