{
 "cells": [
  {
   "cell_type": "code",
   "execution_count": 9,
   "id": "c427ce70-4772-4af1-9522-ef992a1abed8",
   "metadata": {},
   "outputs": [
    {
     "name": "stdout",
     "output_type": "stream",
     "text": [
      "10225\n"
     ]
    }
   ],
   "source": [
    "from selenium import webdriver\n",
    "from selenium.webdriver.chrome.service import Service\n",
    "from selenium.webdriver.common.keys import Keys\n",
    "from selenium.webdriver.common.by import By\n",
    "import time\n",
    "\n",
    "\n",
    "s=Service(r\"C:\\Windows\\chromedriver.exe\")\n",
    "driver=webdriver.Chrome(service=s)\n",
    "\n",
    "driver.get(\"https://www.ajio.com/s/footwear-4792-56592?query=%3Arelevance%3Al1l3nestedcategory%3AWomen%20-%20Sneakers&curated=true&curatedid=footwear-4792-56592&gridColumns=3\")\n",
    "time.sleep(5)\n",
    "\n",
    "while True:\n",
    "    height=driver.execute_script(\"return document.body.scrollHeight\")\n",
    "    print(height)\n",
    "\n",
    "    driver.execute_script(\"window.scrollTo(0, document.body.scrollHeight)\")\n",
    "    new_height=driver.execute_script(\"return document.body.scrollHeight\")\n",
    "    if height==new_height:\n",
    "        break\n",
    "    \n",
    "\n",
    "\n"
   ]
  },
  {
   "cell_type": "code",
   "execution_count": null,
   "id": "b46cac05-87d8-4981-9d25-e2db6ce88062",
   "metadata": {},
   "outputs": [],
   "source": []
  }
 ],
 "metadata": {
  "kernelspec": {
   "display_name": "Python 3 (ipykernel)",
   "language": "python",
   "name": "python3"
  },
  "language_info": {
   "codemirror_mode": {
    "name": "ipython",
    "version": 3
   },
   "file_extension": ".py",
   "mimetype": "text/x-python",
   "name": "python",
   "nbconvert_exporter": "python",
   "pygments_lexer": "ipython3",
   "version": "3.12.4"
  }
 },
 "nbformat": 4,
 "nbformat_minor": 5
}
