{
 "cells": [
  {
   "cell_type": "code",
   "execution_count": 13,
   "id": "f8674155-9885-4133-9354-3d510bc2ea96",
   "metadata": {},
   "outputs": [],
   "source": [
    "from selenium import webdriver\n",
    "from selenium.webdriver.chrome.service import Service\n",
    "from selenium.webdriver.common.keys import Keys\n",
    "from selenium.webdriver.common.by import By\n",
    "import time\n",
    "\n",
    "s=Service(r\"C:\\Windows\\chromedriver.exe\")\n",
    "driver=webdriver.Chrome(service=s)\n",
    "\n",
    "driver.get(\"https://www.flipkart.com/\")\n",
    "\n",
    "time.sleep(5)\n",
    "\n",
    "search= driver.find_element(By.XPATH, \"/html/body/div[1]/div/div[1]/div/div/div/div/div[1]/div/div/div/div[1]/div[1]/header/div[1]/div[2]/form/div/div/input\")\n",
    "search.send_keys(\"Mobiles Under 50000\")\n",
    "search.send_keys(Keys.ENTER)"
   ]
  },
  {
   "cell_type": "code",
   "execution_count": null,
   "id": "ec36f62b-6813-4846-9d6f-3df826b94d24",
   "metadata": {},
   "outputs": [],
   "source": []
  }
 ],
 "metadata": {
  "kernelspec": {
   "display_name": "Python 3 (ipykernel)",
   "language": "python",
   "name": "python3"
  },
  "language_info": {
   "codemirror_mode": {
    "name": "ipython",
    "version": 3
   },
   "file_extension": ".py",
   "mimetype": "text/x-python",
   "name": "python",
   "nbconvert_exporter": "python",
   "pygments_lexer": "ipython3",
   "version": "3.12.4"
  }
 },
 "nbformat": 4,
 "nbformat_minor": 5
}
